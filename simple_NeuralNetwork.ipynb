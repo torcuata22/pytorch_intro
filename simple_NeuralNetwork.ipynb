{
  "nbformat": 4,
  "nbformat_minor": 0,
  "metadata": {
    "colab": {
      "provenance": [],
      "authorship_tag": "ABX9TyNpwNn60cm+v/DtzpovwfzP",
      "include_colab_link": true
    },
    "kernelspec": {
      "name": "python3",
      "display_name": "Python 3"
    },
    "language_info": {
      "name": "python"
    }
  },
  "cells": [
    {
      "cell_type": "markdown",
      "metadata": {
        "id": "view-in-github",
        "colab_type": "text"
      },
      "source": [
        "<a href=\"https://colab.research.google.com/github/torcuata22/pytorch_intro/blob/main/simple_NeuralNetwork.ipynb\" target=\"_parent\"><img src=\"https://colab.research.google.com/assets/colab-badge.svg\" alt=\"Open In Colab\"/></a>"
      ]
    },
    {
      "cell_type": "code",
      "execution_count": 7,
      "metadata": {
        "colab": {
          "base_uri": "https://localhost:8080/"
        },
        "id": "bxgCie2iJuj9",
        "outputId": "8b67d7cb-d102-4102-a060-9b6790ae9e7b"
      },
      "outputs": [
        {
          "output_type": "stream",
          "name": "stdout",
          "text": [
            "Requirement already satisfied: torch in /usr/local/lib/python3.10/dist-packages (2.1.0+cu121)\n",
            "Requirement already satisfied: filelock in /usr/local/lib/python3.10/dist-packages (from torch) (3.13.1)\n",
            "Requirement already satisfied: typing-extensions in /usr/local/lib/python3.10/dist-packages (from torch) (4.5.0)\n",
            "Requirement already satisfied: sympy in /usr/local/lib/python3.10/dist-packages (from torch) (1.12)\n",
            "Requirement already satisfied: networkx in /usr/local/lib/python3.10/dist-packages (from torch) (3.2.1)\n",
            "Requirement already satisfied: jinja2 in /usr/local/lib/python3.10/dist-packages (from torch) (3.1.3)\n",
            "Requirement already satisfied: fsspec in /usr/local/lib/python3.10/dist-packages (from torch) (2023.6.0)\n",
            "Requirement already satisfied: triton==2.1.0 in /usr/local/lib/python3.10/dist-packages (from torch) (2.1.0)\n",
            "Requirement already satisfied: MarkupSafe>=2.0 in /usr/local/lib/python3.10/dist-packages (from jinja2->torch) (2.1.4)\n",
            "Requirement already satisfied: mpmath>=0.19 in /usr/local/lib/python3.10/dist-packages (from sympy->torch) (1.3.0)\n"
          ]
        }
      ],
      "source": [
        "#create neural network to classify iris flowers using the iris dataset: https://archive.ics.uci.edu/dataset/53/iris\n",
        "!pip install torch\n",
        "import torch\n",
        "import torch.nn as nn #create neural network\n",
        "import torch.nn.functional as F #move data forward in the function\n",
        "\n"
      ]
    },
    {
      "cell_type": "code",
      "source": [
        "#create Model Class that inherits the nn.Module\n",
        "class Model(nn.Module):\n",
        "  #input layer(4 features of hte flower) --> hidden layer1, H1 (some number of neurons)--> hidden layer 2, H2 (some number of neurons) --> output (3 classes of iris flowers)\n",
        "\n",
        "  def __init__(self, in_features=4, h1=8, h2=8, out_features=3):\n",
        "    super().__init__() #initializes parent class, without this I get an error (instantiates nn.Module)\n",
        "    self.fc1 = nn.Linear(in_features, h1) #fc=fully connected, we do this for each layer\n",
        "    self.fc1 = nn.Linear(h1, h2)\n",
        "    self.out = nn.Linear(h2, out_features) #output layer\n",
        "\n",
        "  #create function to move everything forward:\n",
        "  def forward(self, x):\n",
        "    x = F.relu(self.fc1(x))  #push to first layer relu: rectified linear unit, if result < 0, use zero\n",
        "    x = F.relu(self.fc2(x))  #push to second layer\n",
        "    x = self.out(x)              #push to output layer\n",
        "\n",
        "    return x\n"
      ],
      "metadata": {
        "id": "yvl6djAkNW3J"
      },
      "execution_count": 8,
      "outputs": []
    },
    {
      "cell_type": "code",
      "source": [
        "#before we turn it on, create manual seed, pick a manual seed for randomization\n",
        "\n",
        "torch.manual_seed(41)\n",
        "\n",
        "#create instance of the modl:\n",
        "model = Model()"
      ],
      "metadata": {
        "id": "1OkMBsH_PUFG"
      },
      "execution_count": 9,
      "outputs": []
    },
    {
      "cell_type": "code",
      "source": [],
      "metadata": {
        "id": "QyUOlW_iQVXa"
      },
      "execution_count": null,
      "outputs": []
    }
  ]
}